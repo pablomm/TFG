{
  "cells": [
    {
      "cell_type": "code",
      "execution_count": null,
      "metadata": {
        "collapsed": false
      },
      "outputs": [],
      "source": [
        "%matplotlib inline"
      ]
    },
    {
      "cell_type": "markdown",
      "metadata": {},
      "source": [
        "\nPairwise alignment\n==================\n\nShows the usage of the elastic registration to perform a pairwise alignment.\n\n"
      ]
    },
    {
      "cell_type": "code",
      "execution_count": null,
      "metadata": {
        "collapsed": false
      },
      "outputs": [],
      "source": [
        "# Author: Pablo Marcos Manch\u00f3n\n# License: MIT\n\n# sphinx_gallery_thumbnail_number = 5\n\n\nimport skfda\nimport matplotlib.pyplot as plt\nimport matplotlib.colors as clr\nimport numpy as np"
      ]
    },
    {
      "cell_type": "markdown",
      "metadata": {},
      "source": [
        "Given any two functions $f$ and $g$, we define their\npairwise alignment or  registration to be the problem of finding a warping\nfunction $\\gamma^*$ such that a certain energy term\n$E[f, g \\circ \\gamma]$ is minimized.\n\n\\begin{align}\\gamma^*= *{argmin}_{\\gamma \\in \\Gamma} E[f \\circ \\gamma, g]\\end{align}\n\nIn the case of elastic registration it is taken as energy function the\nFisher-Rao distance with a penalisation term, due to the property of\ninvariance to reparameterizations of warpings functions.\n\n\\begin{align}E[f \\circ \\gamma, g] = d_{FR} (f \\circ \\gamma, g)\\end{align}\n\nFirstly, we will create two unimodal samples, $f$ and $g$,\ndefined in [0, 1] wich will be used to show the elastic registration.\nDue to the similarity of these curves can be aligned almost perfectly between\nthem.\n\n\n"
      ]
    },
    {
      "cell_type": "code",
      "execution_count": null,
      "metadata": {
        "collapsed": false
      },
      "outputs": [],
      "source": [
        "#\u00a0Samples with modes in 1/3 and 2/3\nfd = skfda.datasets.make_multimodal_samples(n_samples=2, modes_location=[1/3,2/3],\n                                          random_state=1, start=0, mode_std=.01)\n\nfd.plot()\nplt.legend(['$f$', '$g$'])"
      ]
    },
    {
      "cell_type": "markdown",
      "metadata": {},
      "source": [
        "In this example $g$ will be used as template and $f$ will be\naligned to it. In the following figure it is shown the result of the\nregistration process, wich can be computed using :func:`elastic_registration\n<skfda.preprocessing.registration.elastic_registration>`.\n\n\n"
      ]
    },
    {
      "cell_type": "code",
      "execution_count": null,
      "metadata": {
        "collapsed": false
      },
      "outputs": [],
      "source": [
        "f, g = fd[0], fd[1]\n\n# Aligns f to g\nfd_align = skfda.preprocessing.registration.elastic_registration(f, g)\n\n\nplt.figure()\n\nfd.plot()\nfd_align.plot(color='C0', linestyle='--')\n\n\n# Legend\nplt.legend(['$f$', '$g$', '$f \\\\circ \\\\gamma $'])"
      ]
    },
    {
      "cell_type": "markdown",
      "metadata": {},
      "source": [
        "The non-linear transformation $\\gamma$ applied to $f$ in\nthe alignment can be obtained using  :func:`elastic_registration_warping\n<skfda.preprocessing.registration.elastic_registration_warping>`.\n\n\n"
      ]
    },
    {
      "cell_type": "code",
      "execution_count": null,
      "metadata": {
        "collapsed": false
      },
      "outputs": [],
      "source": [
        "# Warping to align f to g\nwarping = skfda.preprocessing.registration.elastic_registration_warping(f, g)\n\nplt.figure()\n\n# Warping used\nwarping.plot()\n\n#\u00a0Plot identity\nt = np.linspace(0, 1)\nplt.plot(t, t, linestyle='--')\n\n# Legend\nplt.legend(['$\\\\gamma$', '$\\\\gamma_{id}$'])"
      ]
    },
    {
      "cell_type": "markdown",
      "metadata": {},
      "source": [
        "The transformation necessary to align $g$ to $f$ will be the\ninverse of the original warping function, $\\gamma^{-1}$.\nThis fact is a consequence of the use of the Fisher-Rao metric as energy\nfunction.\n\n\n"
      ]
    },
    {
      "cell_type": "code",
      "execution_count": null,
      "metadata": {
        "collapsed": false
      },
      "outputs": [],
      "source": [
        "warping_inverse = skfda.preprocessing.registration.invert_warping(warping)\n\n\nplt.figure()\n\nfd.plot(label='$f$')\ng.compose(warping_inverse).plot(color='C1', linestyle='--')\n\n\n# Legend\nplt.legend(['$f$', '$g$', '$g \\\\circ \\\\gamma^{-1} $'])"
      ]
    },
    {
      "cell_type": "markdown",
      "metadata": {},
      "source": [
        "The amount of deformation used in the registration can be controlled by using\na variation of the metric with a penalty term\n$\\lambda \\mathcal{R}(\\gamma)$ wich will reduce the elasticity of the\nmetric.\n\nThe following figure shows the original curves and the result to the\nalignment varying $\\lambda$ from 0 to 0.2.\n\n\n"
      ]
    },
    {
      "cell_type": "code",
      "execution_count": null,
      "metadata": {
        "collapsed": false
      },
      "outputs": [],
      "source": [
        "# Values of lambda\nlambdas = np.linspace(0, .2, 20)\n\n# Creation of a color gradient\ncmap = clr.LinearSegmentedColormap.from_list('custom cmap', ['C1','C0'])\ncolor = cmap(.2 + 3*lambdas)\n\nplt.figure()\n\nfor lam, c in zip(lambdas, color):\n    # Plots result of alignment\n    skfda.preprocessing.registration.elastic_registration(f, g, lam=lam).plot(color=c)\n\n\nf.plot(color='C0', linewidth=2., label='$f$')\ng.plot(color='C1', linewidth=2., label='$g$')\n\n# Legend\nplt.legend()"
      ]
    },
    {
      "cell_type": "markdown",
      "metadata": {},
      "source": [
        "This phenomenon of loss of elasticity is clearly observed in\nthe warpings used, since as the term of penalty increases, the functions\nare closer to $\\gamma_{id}$.\n\n\n"
      ]
    },
    {
      "cell_type": "code",
      "execution_count": null,
      "metadata": {
        "collapsed": false
      },
      "outputs": [],
      "source": [
        "plt.figure()\n\nfor lam, c in zip(lambdas, color):\n    skfda.preprocessing.registration.elastic_registration_warping(f, g, lam=lam).plot(color=c)\n\n# Plots identity\nplt.plot(t,t,  color='C0', linestyle=\"--\")"
      ]
    },
    {
      "cell_type": "markdown",
      "metadata": {},
      "source": [
        "We can perform the pairwise of multiple curves at once. We can use a single\ncurve as template to align a set of samples to it or a set of\ntemplates to make the alignemnt the two sets.\n\nIn the elastic registration example it is shown the alignment of multiple\ncurves to the same template.\n\nWe will build two sets with 3 curves each, $\\{f_i\\}$ and $\\{g_i\\}$.\n\n\n"
      ]
    },
    {
      "cell_type": "code",
      "execution_count": null,
      "metadata": {
        "collapsed": false
      },
      "outputs": [],
      "source": [
        "# Creation of the 2 sets of functions\nstate = np.random.RandomState(0)\n\nlocation1 = state.normal(loc=-.3, scale=.1, size=3)\nfd = skfda.datasets.make_multimodal_samples(n_samples=3, modes_location=location1,\n                                          noise=.001 ,random_state=1)\n\nlocation2 = state.normal(loc=.3, scale=.1, size=3)\ng = skfda.datasets.make_multimodal_samples(n_samples=3, modes_location=location2,\n                                           random_state=2)\n\n# Plot of the sets\nplt.figure()\n\nfd.plot(color=\"C0\", label=\"$f_i$\")\nfig, ax = g.plot(color=\"C1\", label=\"$g_i$\")\n\nl = ax[0].get_lines()\nplt.legend(handles=[l[0], l[-1]])"
      ]
    },
    {
      "cell_type": "markdown",
      "metadata": {},
      "source": [
        "The following figure shows the result of the pairwise alignment of\n$\\{f_i\\}$ to $\\{g_i\\}$.\n\n\n"
      ]
    },
    {
      "cell_type": "code",
      "execution_count": null,
      "metadata": {
        "collapsed": false
      },
      "outputs": [],
      "source": [
        "plt.figure()\n\n# Registration of the sets\nfd_registered = skfda.preprocessing.registration.elastic_registration(fd, g)\n\n# Plot of the curves\nfig, ax = fd.plot(color=\"C0\", label=\"$f_i$\")\nl1 = ax[0].get_lines()[-1]\ng.plot(color=\"C1\", label=\"$g_i$\")\nl2 = ax[0].get_lines()[-1]\nfd_registered.plot(color=\"C0\", linestyle=\"--\", label=\"$f_i \\\\circ \\\\gamma_i$\")\nl3 = ax[0].get_lines()[-1]\n\nplt.legend(handles=[l1, l2, l3])\n\nplt.show()"
      ]
    },
    {
      "cell_type": "markdown",
      "metadata": {},
      "source": [
        "* Srivastava, Anuj & Klassen, Eric P. (2016). Functional and shape data\n  analysis. In *Functional Data and Elastic Registration* (pp. 73-122).\n  Springer.\n\n* J. S. Marron, James O. Ramsay, Laura M. Sangalli and Anuj Srivastava (2015).\n  Functional Data Analysis of Amplitude and Phase Variation.\n  Statistical Science 2015, Vol. 30, No. 4\n\n"
      ]
    }
  ],
  "metadata": {
    "kernelspec": {
      "display_name": "Python 3",
      "language": "python",
      "name": "python3"
    },
    "language_info": {
      "codemirror_mode": {
        "name": "ipython",
        "version": 3
      },
      "file_extension": ".py",
      "mimetype": "text/x-python",
      "name": "python",
      "nbconvert_exporter": "python",
      "pygments_lexer": "ipython3",
      "version": "3.6.8"
    }
  },
  "nbformat": 4,
  "nbformat_minor": 0
}