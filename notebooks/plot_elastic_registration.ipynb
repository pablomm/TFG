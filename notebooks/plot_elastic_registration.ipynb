{
  "cells": [
    {
      "cell_type": "code",
      "execution_count": null,
      "metadata": {
        "collapsed": false
      },
      "outputs": [],
      "source": [
        "%matplotlib inline"
      ]
    },
    {
      "cell_type": "markdown",
      "metadata": {},
      "source": [
        "\nElastic registration\n====================\n\nShows the usage of the elastic registration to perform a groupwise alignment.\n\n"
      ]
    },
    {
      "cell_type": "code",
      "execution_count": null,
      "metadata": {
        "collapsed": false
      },
      "outputs": [],
      "source": [
        "# Author: Pablo Marcos Manch\u00f3n\n# License: MIT\n\n# sphinx_gallery_thumbnail_number = 5\n\n\nimport skfda\nimport matplotlib.pyplot as plt\nimport numpy as np"
      ]
    },
    {
      "cell_type": "markdown",
      "metadata": {},
      "source": [
        "In the example of pairwise alignment was shown the usage of\n:func:`elastic_registration <skfda.preprocessing.registration.elastic_registration>` to align\na set of functional observations to a given template or a set of templates.\n\nIn the groupwise alignment all the samples are aligned to the same templated,\nconstructed to minimise some distance, generally a mean or a median. In the\ncase of the elastic registration, due to the use of the elastic distance in\nthe alignment, one of the most suitable templates is the karcher mean under\nthis metric.\n\nWe will create a synthetic dataset to show the basic usage of the registration.\n\n\n"
      ]
    },
    {
      "cell_type": "code",
      "execution_count": null,
      "metadata": {
        "collapsed": false
      },
      "outputs": [],
      "source": [
        "fd = skfda.datasets.make_multimodal_samples(n_modes=2, stop=4, random_state=1)\nfd.plot()"
      ]
    },
    {
      "cell_type": "markdown",
      "metadata": {},
      "source": [
        "The following figure shows the\n:func:`elastic mean <skfda.preprocessing.registration.elastic_mean>` of the dataset and the\ncross-sectional mean, which correspond to the karcher-mean under the\n$\\mathbb{L}^2$ distance.\n\nIt can be seen how the elastic mean better captures the geometry of the curves\ncompared to the standard mean, since it is not affected by the deformations of\nthe curves.\n\n"
      ]
    },
    {
      "cell_type": "code",
      "execution_count": null,
      "metadata": {
        "collapsed": false
      },
      "outputs": [],
      "source": [
        "plt.figure()\nfd.mean().plot(label=\"L2 mean\")\nskfda.preprocessing.registration.elastic_mean(fd).plot(label=\"Elastic mean\")\nplt.legend()"
      ]
    },
    {
      "cell_type": "markdown",
      "metadata": {},
      "source": [
        "In this case, the alignment completely reduces the amplitude variability\nbetween the samples, aligning the maximum points correctly.\n\n"
      ]
    },
    {
      "cell_type": "code",
      "execution_count": null,
      "metadata": {
        "collapsed": false
      },
      "outputs": [],
      "source": [
        "fd_align = skfda.preprocessing.registration.elastic_registration(fd)\n\nplt.figure()\nfd_align.plot()"
      ]
    },
    {
      "cell_type": "markdown",
      "metadata": {},
      "source": [
        "In general these type of alignments are not possible, in the following\nfigure it is shown how it works with a real dataset.\nThe :func:`berkeley growth dataset<skfda.datasets.fetch_growth>`\ncontains the growth curves of a set children, in this case will be used only the\nmales. The growth curves will be resampled using cubic interpolation and derived\nto obtain the velocity curves.\n\n\n"
      ]
    },
    {
      "cell_type": "code",
      "execution_count": null,
      "metadata": {
        "collapsed": false
      },
      "outputs": [],
      "source": [
        "growth = skfda.datasets.fetch_growth()\n\n#\u00a0Select only one sex\nfd = growth['data'][growth['target'] == 0]\n\n# Obtain velocity curves\nfd.interpolator = skfda.representation.interpolation.SplineInterpolator(3)\nfd = fd.to_grid(np.linspace(*fd.domain_range[0], 200)).derivative()\nfd = fd.to_grid(np.linspace(*fd.domain_range[0], 50))\nfd.plot()\n\nplt.figure()\nfd_align = skfda.preprocessing.registration.elastic_registration(fd)\nfd_align.dataset_label += \" - aligned\"\n\nfd_align.plot()\n\nplt.show()"
      ]
    },
    {
      "cell_type": "markdown",
      "metadata": {},
      "source": [
        "* Srivastava, Anuj & Klassen, Eric P. (2016). Functional and shape data\n  analysis. In *Functional Data and Elastic Registration* (pp. 73-122).\n  Springer.\n\n* J. S. Marron, James O. Ramsay, Laura M. Sangalli and Anuj Srivastava (2015).\n  Functional Data Analysis of Amplitude and Phase Variation.\n  Statistical Science 2015, Vol. 30, No. 4\n\n"
      ]
    }
  ],
  "metadata": {
    "kernelspec": {
      "display_name": "Python 3",
      "language": "python",
      "name": "python3"
    },
    "language_info": {
      "codemirror_mode": {
        "name": "ipython",
        "version": 3
      },
      "file_extension": ".py",
      "mimetype": "text/x-python",
      "name": "python",
      "nbconvert_exporter": "python",
      "pygments_lexer": "ipython3",
      "version": "3.6.8"
    }
  },
  "nbformat": 4,
  "nbformat_minor": 0
}