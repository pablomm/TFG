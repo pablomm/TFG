{
  "cells": [
    {
      "cell_type": "code",
      "execution_count": null,
      "metadata": {
        "collapsed": false
      },
      "outputs": [],
      "source": [
        "%matplotlib inline"
      ]
    },
    {
      "cell_type": "markdown",
      "metadata": {},
      "source": [
        "\nShift Registration of basis\n===========================\n\nShows the use of shift registration applied to a sinusoidal\nprocess represented in a Fourier basis.\n\n"
      ]
    },
    {
      "cell_type": "code",
      "execution_count": null,
      "metadata": {
        "collapsed": false
      },
      "outputs": [],
      "source": [
        "# Author: Pablo Marcos Manch\u00f3n\n# License: MIT\n\n# sphinx_gallery_thumbnail_number = 3\n\nimport skfda\nimport matplotlib.pyplot as plt"
      ]
    },
    {
      "cell_type": "markdown",
      "metadata": {},
      "source": [
        "In this example we will use a\n:func:`sinusoidal process <skfda.datasets.make_sinusoidal_process>`\nsynthetically generated. This dataset consists in a sinusoidal wave with fixed\nperiod which contanis phase and amplitude variation with gaussian noise.\n\nIn this example we want to register the curves using a translation\nand remove the phase variation to perform further analysis.\n\n"
      ]
    },
    {
      "cell_type": "code",
      "execution_count": null,
      "metadata": {
        "collapsed": false
      },
      "outputs": [],
      "source": [
        "fd = skfda.datasets.make_sinusoidal_process(random_state=1)\nfd.plot()"
      ]
    },
    {
      "cell_type": "markdown",
      "metadata": {},
      "source": [
        "We will smooth the curves using a basis representation, which will help us\nto remove the gaussian noise. Smoothing before registration\nis essential due to the use of derivatives in the optimization process.\n\nBecause of their sinusoidal nature we will use a Fourier basis.\n\n"
      ]
    },
    {
      "cell_type": "code",
      "execution_count": null,
      "metadata": {
        "collapsed": false
      },
      "outputs": [],
      "source": [
        "basis = skfda.representation.basis.Fourier(nbasis=11)\nfd_basis = fd.to_basis(basis)\n\nplt.figure()\nfd_basis.plot()"
      ]
    },
    {
      "cell_type": "markdown",
      "metadata": {},
      "source": [
        "We will apply the\n:func:`shift registration <skfda.preprocessing.registration.shift_registration>`,\nwhich is suitable due to the periodicity of the dataset and the small\namount of amplitude variation.\n\n"
      ]
    },
    {
      "cell_type": "code",
      "execution_count": null,
      "metadata": {
        "collapsed": false
      },
      "outputs": [],
      "source": [
        "fd_registered = skfda.preprocessing.registration.shift_registration(fd_basis)"
      ]
    },
    {
      "cell_type": "markdown",
      "metadata": {},
      "source": [
        "We can observe how the sinusoidal pattern is easily distinguishable\nonce the alignment has been made.\n\n"
      ]
    },
    {
      "cell_type": "code",
      "execution_count": null,
      "metadata": {
        "collapsed": false
      },
      "outputs": [],
      "source": [
        "plt.figure()\nfd_registered.plot()"
      ]
    },
    {
      "cell_type": "markdown",
      "metadata": {},
      "source": [
        "We will plot the mean of the original smoothed curves and the registered ones,\nand we will compare with the original sinusoidal process without noise.\n\nWe can see how the phase variation affects to the mean of the original curves\nvarying their amplitude with respect to the original process, however, this\neffect is mitigated after the registration.\n\n"
      ]
    },
    {
      "cell_type": "code",
      "execution_count": null,
      "metadata": {
        "collapsed": false
      },
      "outputs": [],
      "source": [
        "plt.figure()\n\nfd_basis.mean().plot()\nfd_registered.mean().plot()\n\n# sinusoidal process without variation and noise\nsine = skfda.datasets.make_sinusoidal_process(n_samples=1, phase_std=0,\n                                            amplitude_std=0, error_std=0)\n\nsine.plot(linestyle='dashed')\n\nplt.legend(['original mean', 'registered mean','sine'])"
      ]
    },
    {
      "cell_type": "markdown",
      "metadata": {},
      "source": [
        "The values of the shifts $\\delta_i$ may be relevant for further\n\u00a0analysis, as they may be considered as nuisance or random effects.\n\n\n"
      ]
    },
    {
      "cell_type": "code",
      "execution_count": null,
      "metadata": {
        "collapsed": false
      },
      "outputs": [],
      "source": [
        "deltas = skfda.preprocessing.registration.shift_registration_deltas(fd_basis)\nprint(deltas)"
      ]
    },
    {
      "cell_type": "markdown",
      "metadata": {},
      "source": [
        "The aligned functions can be obtained from the $\\delta_i$ list\nusing the `shift` method.\n\n\n"
      ]
    },
    {
      "cell_type": "code",
      "execution_count": null,
      "metadata": {
        "collapsed": false
      },
      "outputs": [],
      "source": [
        "fd_basis.shift(deltas).plot()"
      ]
    }
  ],
  "metadata": {
    "kernelspec": {
      "display_name": "Python 3",
      "language": "python",
      "name": "python3"
    },
    "language_info": {
      "codemirror_mode": {
        "name": "ipython",
        "version": 3
      },
      "file_extension": ".py",
      "mimetype": "text/x-python",
      "name": "python",
      "nbconvert_exporter": "python",
      "pygments_lexer": "ipython3",
      "version": "3.6.8"
    }
  },
  "nbformat": 4,
  "nbformat_minor": 0
}