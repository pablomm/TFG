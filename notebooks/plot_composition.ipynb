{
  "cells": [
    {
      "cell_type": "code",
      "execution_count": null,
      "metadata": {
        "collapsed": false
      },
      "outputs": [],
      "source": [
        "%matplotlib inline"
      ]
    },
    {
      "cell_type": "markdown",
      "metadata": {},
      "source": [
        "\nFunction composition\n====================\n\nThis example shows the composition of multidimensional FDataGrids.\n\n"
      ]
    },
    {
      "cell_type": "code",
      "execution_count": null,
      "metadata": {
        "collapsed": false
      },
      "outputs": [],
      "source": [
        "# Author: Pablo Marcos Manch\u00f3n\n# License: MIT\n\n# sphinx_gallery_thumbnail_number = 3\n\nimport skfda\nimport matplotlib.pyplot as plt\nimport numpy as np\n\nfrom mpl_toolkits.mplot3d import axes3d"
      ]
    },
    {
      "cell_type": "markdown",
      "metadata": {},
      "source": [
        "Function composition can be applied to our data once is in functional\nform using the method :func:`compose`.\n\nLet $f: X \\rightarrow Y$ and $g: Y \\rightarrow Z$, the composition\nwill produce a third function $g \\circ f: X \\rightarrow Z$ which maps\n$x \\in X$ to $g(f(x))$ [1].\n\nIn `Landmark Registration <plot_landmark_registration.html>`_ it is shown the\nsimplest case, where it is used to apply a transformation of the time scale of\nunidimensional data to register its features.\n\nThe following example shows the basic usage applied to a surface and a curve,\nalthough the method will work for data with arbitrary dimensions to.\n\nFirstly we will create a data object containing a surface\n$g: \\mathbb{R}^2 \\rightarrow \\mathbb{R}$.\n\n\n"
      ]
    },
    {
      "cell_type": "code",
      "execution_count": null,
      "metadata": {
        "collapsed": false
      },
      "outputs": [],
      "source": [
        "# Constructs example surface\nX, Y, Z = axes3d.get_test_data(1.2)\ndata_matrix = [Z.T]\nsample_points = [X[0,:], Y[:, 0]]\n\ng = skfda.FDataGrid(data_matrix, sample_points)\n\n# Sets cubic interpolation\ng.interpolator = skfda.representation.interpolation.SplineInterpolator(interpolation_order=3)\n\n# Plots the surface\ng.plot()"
      ]
    },
    {
      "cell_type": "markdown",
      "metadata": {},
      "source": [
        "We will create a parametric curve $f(t)=(10 \\, \\cos(t), 10 \\, sin(t))$.\nThe result of the composition, $g \\circ f:\\mathbb{R} \\rightarrow\n\\mathbb{R}$\nwill be another functional object with the values of $g$ along the path\ngiven by $f$.\n\n\n"
      ]
    },
    {
      "cell_type": "code",
      "execution_count": null,
      "metadata": {
        "collapsed": false
      },
      "outputs": [],
      "source": [
        "# Creation of circunference in parametric form\nt = np.linspace(0, 2*np.pi, 100)\n\ndata_matrix = [10 * np.array([np.cos(t), np.sin(t)]).T]\nf = skfda.FDataGrid(data_matrix, t)\n\n# Composition of function\ngof = g.compose(f)\n\nplt.figure()\n\ngof.plot()"
      ]
    },
    {
      "cell_type": "markdown",
      "metadata": {},
      "source": [
        "In the following chart it is plotted the curve\n$(10 \\, \\cos(t), 10 \\, sin(t), g \\circ f (t))$ and the surface.\n\n\n"
      ]
    },
    {
      "cell_type": "code",
      "execution_count": null,
      "metadata": {
        "collapsed": false
      },
      "outputs": [],
      "source": [
        "# Plots surface\nfig, ax = g.plot(alpha=.8)\n\n# Plots path along the surface\npath = f(t)[0]\nax[0].plot(path[:,0], path[:,1], gof(t)[0], color=\"orange\")\n\nplt.show()"
      ]
    },
    {
      "cell_type": "markdown",
      "metadata": {},
      "source": [
        "[1] Function composition `https://en.wikipedia.org/wiki/Function_composition\n<https://en.wikipedia.org/wiki/Function_composition>`_.\n\n\n"
      ]
    }
  ],
  "metadata": {
    "kernelspec": {
      "display_name": "Python 3",
      "language": "python",
      "name": "python3"
    },
    "language_info": {
      "codemirror_mode": {
        "name": "ipython",
        "version": 3
      },
      "file_extension": ".py",
      "mimetype": "text/x-python",
      "name": "python",
      "nbconvert_exporter": "python",
      "pygments_lexer": "ipython3",
      "version": "3.6.8"
    }
  },
  "nbformat": 4,
  "nbformat_minor": 0
}