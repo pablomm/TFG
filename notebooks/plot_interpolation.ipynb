{
  "cells": [
    {
      "cell_type": "code",
      "execution_count": null,
      "metadata": {
        "collapsed": false
      },
      "outputs": [],
      "source": [
        "%matplotlib inline"
      ]
    },
    {
      "cell_type": "markdown",
      "metadata": {},
      "source": [
        "\nInterpolation\n=====================\n\nThis example shows the types of interpolation used in the evaluation of\nFDataGrids.\n\n"
      ]
    },
    {
      "cell_type": "code",
      "execution_count": null,
      "metadata": {
        "collapsed": false
      },
      "outputs": [],
      "source": [
        "# Author: Pablo Marcos Manch\u00f3n\n# License: MIT\n\n# sphinx_gallery_thumbnail_number = 3\n\nimport skfda\nimport numpy as np\nimport matplotlib.pyplot as plt\nfrom mpl_toolkits.mplot3d import axes3d\nfrom skfda.representation.interpolation import SplineInterpolator"
      ]
    },
    {
      "cell_type": "markdown",
      "metadata": {},
      "source": [
        "The :class:`FDataGrid` class is used for datasets containing discretized\nfunctions. For the evaluation between the points of discretization, or sample\npoints, is necessary to interpolate.\n\nWe will construct an example dataset with two curves with 6 points of\ndiscretization.\n\n\n"
      ]
    },
    {
      "cell_type": "code",
      "execution_count": null,
      "metadata": {
        "collapsed": false
      },
      "outputs": [],
      "source": [
        "fd = skfda.datasets.make_sinusoidal_process(n_samples=2, n_features=6,\n                                          random_state=1)\nfd.scatter()\nplt.legend([\"Sample 1\", \"Sample 2\"])"
      ]
    },
    {
      "cell_type": "markdown",
      "metadata": {},
      "source": [
        "By default it is used linear interpolation, which is one of the simplest\nmethods of interpolation and therefore one of the least computationally\nexpensive, but has the disadvantage that the interpolant is not differentiable\nat the points of discretization.\n\n\n"
      ]
    },
    {
      "cell_type": "code",
      "execution_count": null,
      "metadata": {
        "collapsed": false
      },
      "outputs": [],
      "source": [
        "fd.plot()\nfd.scatter()"
      ]
    },
    {
      "cell_type": "markdown",
      "metadata": {},
      "source": [
        "The interpolation method of the FDataGrid could be changed setting the\nattribute `interpolator`. Once we have set an interpolator it is used for\nthe evaluation of the object.\n\nPolynomial spline interpolation could be performed using the interpolator\n:class:`SplineInterpolator`. In the following example a cubic interpolator\nis set.\n\n"
      ]
    },
    {
      "cell_type": "code",
      "execution_count": null,
      "metadata": {
        "collapsed": false
      },
      "outputs": [],
      "source": [
        "fd.interpolator = SplineInterpolator(interpolation_order=3)\n\nfd.plot()\nfd.scatter()"
      ]
    },
    {
      "cell_type": "markdown",
      "metadata": {},
      "source": [
        "Smooth interpolation could be performed with the attribute\n`smoothness_parameter` of the spline interpolator.\n\n\n"
      ]
    },
    {
      "cell_type": "code",
      "execution_count": null,
      "metadata": {
        "collapsed": false
      },
      "outputs": [],
      "source": [
        "# Sample with noise\nfd_smooth = skfda.datasets.make_sinusoidal_process(n_samples=1, n_features=30,\n                                                 random_state=1, error_std=.3)\n\n# Cubic interpolator\nfd_smooth.interpolator = SplineInterpolator(interpolation_order=3)\n\nfd_smooth.plot(label=\"Cubic\")\n\n# Smooth interpolation\nfd_smooth.interpolator = SplineInterpolator(interpolation_order=3,\n                                            smoothness_parameter=1.5)\n\nfd_smooth.plot(label=\"Cubic smoothed\")\n\nfd_smooth.scatter()\nplt.legend()"
      ]
    },
    {
      "cell_type": "markdown",
      "metadata": {},
      "source": [
        "It is possible to evaluate derivatives of the FDatagrid,\nbut due to the fact that interpolation is performed first, the interpolation\nloses one degree for each order of derivation. In the next example, it is\nshown the first derivative of a sample using interpolation with different\ndegrees.\n\n\n"
      ]
    },
    {
      "cell_type": "code",
      "execution_count": null,
      "metadata": {
        "collapsed": false
      },
      "outputs": [],
      "source": [
        "fd = fd[1]\n\nfor i in range(1, 4):\n    fd.interpolator = SplineInterpolator(interpolation_order=i)\n    fd.plot(derivative=1, label=f\"Degree {i}\")\n\nplt.legend()"
      ]
    },
    {
      "cell_type": "markdown",
      "metadata": {},
      "source": [
        "FDataGrids can be differentiate using lagged differences with the\nmethod :func:`derivative`, creating another FDataGrid which could be\ninterpolated in order to avoid interpolating before differentiating.\n\n\n"
      ]
    },
    {
      "cell_type": "code",
      "execution_count": null,
      "metadata": {
        "collapsed": false
      },
      "outputs": [],
      "source": [
        "fd_derivative = fd.derivative()\n\nfd_derivative.plot(label=\"Differentiation first\")\nfd_derivative.scatter()\n\nfd.plot(derivative=1, label=\"Interpolation first\")\n\nplt.legend()"
      ]
    },
    {
      "cell_type": "markdown",
      "metadata": {},
      "source": [
        "Sometimes our samples are required to be monotone, in these cases it is\npossible to use monotone cubic interpolation with the attribute `monotone`.\nA piecewise cubic hermite interpolating polynomial (PCHIP) will be used.\n\n\n"
      ]
    },
    {
      "cell_type": "code",
      "execution_count": null,
      "metadata": {
        "collapsed": false
      },
      "outputs": [],
      "source": [
        "fd_monotone = fd.copy(data_matrix=np.sort(fd.data_matrix, axis=1))\n\n\nfd_monotone.plot(linestyle='--', label=\"cubic\")\n\n\n\nfd_monotone.interpolator = SplineInterpolator(interpolation_order=3,\n                                                           monotone=True)\nfd_monotone.plot(label=\"PCHIP\")\n\nfd_monotone.scatter(c='C1')\nplt.legend()"
      ]
    },
    {
      "cell_type": "markdown",
      "metadata": {},
      "source": [
        "All the interpolators will work regardless of the dimension of the image, but\ndepending on the domain dimension some methods will not be available.\n\nFor the next examples it is constructed a surface, $x_i: \\mathbb{R}^2\n\\longmapsto \\mathbb{R}$. By default, as in unidimensional samples, it is used\nlinear interpolation.\n\n\n"
      ]
    },
    {
      "cell_type": "code",
      "execution_count": null,
      "metadata": {
        "collapsed": false
      },
      "outputs": [],
      "source": [
        "X, Y, Z = axes3d.get_test_data(1.2)\ndata_matrix = [Z.T]\nsample_points = [X[0,:], Y[:, 0]]\n\n\nfd = skfda.FDataGrid(data_matrix, sample_points)\n\nfig, ax = fd.plot()\nfd.scatter(ax=ax)"
      ]
    },
    {
      "cell_type": "markdown",
      "metadata": {},
      "source": [
        "In the following figure it is shown the result of the cubic interpolation\napplied to the surface.\n\nThe degree of the interpolator polynomial does not have to coincide in both\ndirections, for example, cubic interpolation in the first\ncomponent and quadratic in the second one could be defined  using a tuple with\nthe values (3,2).\n\n\n"
      ]
    },
    {
      "cell_type": "code",
      "execution_count": null,
      "metadata": {
        "collapsed": false
      },
      "outputs": [],
      "source": [
        "fd.interpolator = SplineInterpolator(interpolation_order=3)\n\nfig, ax = fd.plot()\nfd.scatter(ax=ax)\n\nplt.show()"
      ]
    },
    {
      "cell_type": "markdown",
      "metadata": {},
      "source": [
        "In case of surface derivatives could be taked in two directions, for this\nreason a tuple with the order of derivates in each direction could be passed.\nLet $x(t,s)$ be the surface, in the following example it is shown the\nderivative with respect to the second coordinate, $\\frac{\\partial}\n{\\partial s}x(t,s)$.\n\n"
      ]
    },
    {
      "cell_type": "code",
      "execution_count": null,
      "metadata": {
        "collapsed": false
      },
      "outputs": [],
      "source": [
        "fd.plot(derivative=(0, 1))\n\nplt.show()"
      ]
    },
    {
      "cell_type": "markdown",
      "metadata": {},
      "source": [
        "The following table shows the interpolation methods available by the class\n:class:`SplineInterpolator` depending on the domain dimension.\n\n+------------------+--------+----------------+----------+-------------+-------------+\n| Domain dimension | Linear | Up to degree 5 | Monotone | Derivatives |  Smoothing  |\n+==================+========+================+==========+=============+=============+\n|         1        |   \u2714    |       \u2714        |    \u2714     |      \u2714      |      \u2714      |\n+------------------+--------+----------------+----------+-------------+-------------+\n|         2        |   \u2714    |       \u2714        |    \u2716     |      \u2714      |      \u2714      |\n+------------------+--------+----------------+----------+-------------+-------------+\n|     3 or more    |   \u2714    |       \u2716        |    \u2716     |      \u2716      |      \u2716      |\n+------------------+--------+----------------+----------+-------------+-------------+\n\n\n"
      ]
    }
  ],
  "metadata": {
    "kernelspec": {
      "display_name": "Python 3",
      "language": "python",
      "name": "python3"
    },
    "language_info": {
      "codemirror_mode": {
        "name": "ipython",
        "version": 3
      },
      "file_extension": ".py",
      "mimetype": "text/x-python",
      "name": "python",
      "nbconvert_exporter": "python",
      "pygments_lexer": "ipython3",
      "version": "3.6.8"
    }
  },
  "nbformat": 4,
  "nbformat_minor": 0
}